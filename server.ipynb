{
  "nbformat": 4,
  "nbformat_minor": 0,
  "metadata": {
    "language_info": {
      "codemirror_mode": {
        "name": "ipython",
        "version": 3
      },
      "file_extension": ".py",
      "mimetype": "text/x-python",
      "name": "python",
      "nbconvert_exporter": "python",
      "pygments_lexer": "ipython3",
      "version": "3.7.7-final"
    },
    "orig_nbformat": 2,
    "kernelspec": {
      "name": "python37232bit0bafe0d4bf6a43df845319a7cc4e1dd0",
      "display_name": "Python 3.7.2 32-bit"
    },
    "colab": {
      "name": "__init__.ipynb",
      "provenance": []
    }
  },
  "cells": [
    {
      "cell_type": "code",
      "metadata": {
        "id": "9KqSHIIulyMU",
        "colab_type": "code",
        "colab": {
          "base_uri": "https://localhost:8080/",
          "height": 35
        },
        "outputId": "d82f0e2b-c962-4177-f31c-3ee5036f33c5"
      },
      "source": [
        "from google.colab import drive\n",
        "drive.mount('/content/drive')"
      ],
      "execution_count": 1,
      "outputs": [
        {
          "output_type": "stream",
          "text": [
            "Drive already mounted at /content/drive; to attempt to forcibly remount, call drive.mount(\"/content/drive\", force_remount=True).\n"
          ],
          "name": "stdout"
        }
      ]
    },
    {
      "cell_type": "code",
      "metadata": {
        "id": "I_nJisje3yTm",
        "colab_type": "code",
        "colab": {
          "base_uri": "https://localhost:8080/",
          "height": 35
        },
        "outputId": "a8c826b6-2cb8-4f64-de72-bb1658ba6e6b"
      },
      "source": [
        "cd 'drive/My Drive/Colab Notebooks/Mnist-Model-Deploy'"
      ],
      "execution_count": 2,
      "outputs": [
        {
          "output_type": "stream",
          "text": [
            "/content/drive/My Drive/Colab Notebooks/Mnist-Model-Deploy\n"
          ],
          "name": "stdout"
        }
      ]
    },
    {
      "cell_type": "code",
      "metadata": {
        "id": "6pWKTxjooR8U",
        "colab_type": "code",
        "colab": {
          "base_uri": "https://localhost:8080/",
          "height": 255
        },
        "outputId": "2ef947b2-9925-4948-ec96-7648d2d27dfd"
      },
      "source": [
        "!pip install flask-ngrok"
      ],
      "execution_count": 3,
      "outputs": [
        {
          "output_type": "stream",
          "text": [
            "Requirement already satisfied: flask-ngrok in /usr/local/lib/python3.6/dist-packages (0.0.25)\n",
            "Requirement already satisfied: requests in /usr/local/lib/python3.6/dist-packages (from flask-ngrok) (2.23.0)\n",
            "Requirement already satisfied: Flask>=0.8 in /usr/local/lib/python3.6/dist-packages (from flask-ngrok) (1.1.2)\n",
            "Requirement already satisfied: chardet<4,>=3.0.2 in /usr/local/lib/python3.6/dist-packages (from requests->flask-ngrok) (3.0.4)\n",
            "Requirement already satisfied: urllib3!=1.25.0,!=1.25.1,<1.26,>=1.21.1 in /usr/local/lib/python3.6/dist-packages (from requests->flask-ngrok) (1.24.3)\n",
            "Requirement already satisfied: idna<3,>=2.5 in /usr/local/lib/python3.6/dist-packages (from requests->flask-ngrok) (2.9)\n",
            "Requirement already satisfied: certifi>=2017.4.17 in /usr/local/lib/python3.6/dist-packages (from requests->flask-ngrok) (2020.4.5.1)\n",
            "Requirement already satisfied: itsdangerous>=0.24 in /usr/local/lib/python3.6/dist-packages (from Flask>=0.8->flask-ngrok) (1.1.0)\n",
            "Requirement already satisfied: Werkzeug>=0.15 in /usr/local/lib/python3.6/dist-packages (from Flask>=0.8->flask-ngrok) (1.0.1)\n",
            "Requirement already satisfied: click>=5.1 in /usr/local/lib/python3.6/dist-packages (from Flask>=0.8->flask-ngrok) (7.1.2)\n",
            "Requirement already satisfied: Jinja2>=2.10.1 in /usr/local/lib/python3.6/dist-packages (from Flask>=0.8->flask-ngrok) (2.11.2)\n",
            "Requirement already satisfied: MarkupSafe>=0.23 in /usr/local/lib/python3.6/dist-packages (from Jinja2>=2.10.1->Flask>=0.8->flask-ngrok) (1.1.1)\n"
          ],
          "name": "stdout"
        }
      ]
    },
    {
      "cell_type": "code",
      "metadata": {
        "id": "hcG42Kj1lrNE",
        "colab_type": "code",
        "colab": {}
      },
      "source": [
        "import cv2\n",
        "import numpy as np\n",
        "import matplotlib.pyplot as plt\n",
        "from flask import Flask, flash, redirect, render_template, request, url_for, send_from_directory,abort\n",
        "from flask_ngrok import run_with_ngrok\n",
        "from tensorflow.keras.models import load_model\n",
        "\n",
        "mnist_model = load_model('model/mnist.h5')"
      ],
      "execution_count": 0,
      "outputs": []
    },
    {
      "cell_type": "code",
      "metadata": {
        "id": "MlBJAzk5_Xoc",
        "colab_type": "code",
        "colab": {}
      },
      "source": [
        "app = Flask(__name__)\n",
        "run_with_ngrok(app) \n",
        "app.secret_key = 'vatsalparsaniya'\n",
        "\n",
        "app.config[\"MNIST_BAR\"] = \"generated_image/mnist_vis\"\n",
        "app.config[\"IMAGES\"] = \"upload\"\n",
        "\n",
        "@app.route('/')\n",
        "def home():\n",
        "    flash(\"Hello Welcome to Vatsal's ML-DL Model Deploy site\")\n",
        "    return render_template('index.html')\n",
        "\n",
        "@app.route('/mnist/')\n",
        "def mnist_home():\n",
        "    return render_template('mnist.html')\n",
        "\n",
        "@app.route('/mnistprediction/', methods=['GET', 'POST'])\n",
        "def mnist_prediction():\n",
        "    if request.method == \"POST\":\n",
        "        if not request.files['file'].filename:\n",
        "            flash(\"No File Found\")\n",
        "        else:\n",
        "            f =  request.files['file']\n",
        "            f.save(\"uploads/\"+f.filename)\n",
        "            image_gray  = cv2.imread(\"uploads/\"+f.filename, cv2.IMREAD_GRAYSCALE)\n",
        "            img_resize = cv2.resize(image_gray,(28,28))\n",
        "            image_bw = cv2.threshold(img_resize, 75, 255, cv2.THRESH_BINARY)[1]\n",
        "            bitwise_not_image = cv2.bitwise_not(image_bw, mask=None)\n",
        "            pred_img = np.reshape(bitwise_not_image,(1,28,28,1))/255.0\n",
        "\n",
        "            predictions = mnist_model.predict(pred_img)\n",
        "            number = int(np.argmax(predictions))\n",
        "            print(number)\n",
        "\n",
        "            plt.figure()\n",
        "            y_pos = np.arange(10)\n",
        "            plt.bar(y_pos, predictions[0])\n",
        "            plt.savefig('generated_image/mnist_vis/'+f.filename)\n",
        "\n",
        "            return str(number)\n",
        "\n",
        "@app.route(\"/get-mnist-image/<image_name>\")\n",
        "def get_mnist_image(image_name):\n",
        "    try:\n",
        "        return send_from_directory(app.config[\"MNIST_BAR\"], filename=image_name)\n",
        "    except FileNotFoundError:\n",
        "        abort(404)"
      ],
      "execution_count": 0,
      "outputs": []
    },
    {
      "cell_type": "code",
      "metadata": {
        "id": "vmagav6Hogzh",
        "colab_type": "code",
        "colab": {
          "base_uri": "https://localhost:8080/",
          "height": 362
        },
        "outputId": "0c5fb119-6f5e-44ab-f236-d82b1209b4d8"
      },
      "source": [
        "app.run()"
      ],
      "execution_count": 6,
      "outputs": [
        {
          "output_type": "stream",
          "text": [
            " * Serving Flask app \"__main__\" (lazy loading)\n",
            " * Environment: production\n",
            "\u001b[31m   WARNING: This is a development server. Do not use it in a production deployment.\u001b[0m\n",
            "\u001b[2m   Use a production WSGI server instead.\u001b[0m\n",
            " * Debug mode: off\n"
          ],
          "name": "stdout"
        },
        {
          "output_type": "stream",
          "text": [
            " * Running on http://127.0.0.1:5000/ (Press CTRL+C to quit)\n"
          ],
          "name": "stderr"
        },
        {
          "output_type": "stream",
          "text": [
            " * Running on http://23a9d0a9.ngrok.io\n",
            " * Traffic stats available on http://127.0.0.1:4040\n"
          ],
          "name": "stdout"
        },
        {
          "output_type": "stream",
          "text": [
            "127.0.0.1 - - [25/May/2020 15:08:01] \"\u001b[37mGET / HTTP/1.1\u001b[0m\" 200 -\n",
            "127.0.0.1 - - [25/May/2020 15:08:01] \"\u001b[37mGET /static/css/header_file.css HTTP/1.1\u001b[0m\" 200 -\n",
            "127.0.0.1 - - [25/May/2020 15:08:01] \"\u001b[37mGET /static/css/footer_file.css HTTP/1.1\u001b[0m\" 200 -\n",
            "127.0.0.1 - - [25/May/2020 15:08:01] \"\u001b[37mGET /static/css/main.css HTTP/1.1\u001b[0m\" 200 -\n",
            "127.0.0.1 - - [25/May/2020 15:08:01] \"\u001b[37mGET /static/image/mnist-sample.png HTTP/1.1\u001b[0m\" 200 -\n",
            "127.0.0.1 - - [25/May/2020 15:08:02] \"\u001b[33mGET /favicon.ico HTTP/1.1\u001b[0m\" 404 -\n",
            "127.0.0.1 - - [25/May/2020 15:08:07] \"\u001b[37mGET /mnist/ HTTP/1.1\u001b[0m\" 200 -\n",
            "127.0.0.1 - - [25/May/2020 15:08:07] \"\u001b[37mGET /static/css/mnist_home.css HTTP/1.1\u001b[0m\" 200 -\n",
            "127.0.0.1 - - [25/May/2020 15:08:07] \"\u001b[37mGET /static/js/imagebox_mnist.js HTTP/1.1\u001b[0m\" 200 -\n",
            "127.0.0.1 - - [25/May/2020 15:08:07] \"\u001b[37mGET /static/js/predictbtn_mnist.js HTTP/1.1\u001b[0m\" 200 -\n",
            "127.0.0.1 - - [25/May/2020 15:08:08] \"\u001b[37mGET /mnist/ HTTP/1.1\u001b[0m\" 200 -\n"
          ],
          "name": "stderr"
        }
      ]
    },
    {
      "cell_type": "code",
      "metadata": {
        "id": "5ERWuq_GrdzR",
        "colab_type": "code",
        "colab": {}
      },
      "source": [
        ""
      ],
      "execution_count": 0,
      "outputs": []
    }
  ]
}