{
  "nbformat": 4,
  "nbformat_minor": 0,
  "metadata": {
    "language_info": {
      "codemirror_mode": {
        "name": "ipython",
        "version": 3
      },
      "file_extension": ".py",
      "mimetype": "text/x-python",
      "name": "python",
      "nbconvert_exporter": "python",
      "pygments_lexer": "ipython3",
      "version": "3.7.7-final"
    },
    "orig_nbformat": 2,
    "kernelspec": {
      "name": "python37232bit0bafe0d4bf6a43df845319a7cc4e1dd0",
      "display_name": "Python 3.7.2 32-bit"
    },
    "colab": {
      "name": "__init__.ipynb",
      "provenance": [],
      "include_colab_link": true
    }
  },
  "cells": [
    {
      "cell_type": "markdown",
      "metadata": {
        "id": "view-in-github",
        "colab_type": "text"
      },
      "source": [
        "<a href=\"https://colab.research.google.com/github/Vatsalparsaniya/Mnist-Model-Deploy/blob/master/__init__.ipynb\" target=\"_parent\"><img src=\"https://colab.research.google.com/assets/colab-badge.svg\" alt=\"Open In Colab\"/></a>"
      ]
    },
    {
      "cell_type": "code",
      "metadata": {
        "id": "9KqSHIIulyMU",
        "colab_type": "code",
        "colab": {
          "base_uri": "https://localhost:8080/",
          "height": 35
        },
        "outputId": "6e2620d8-3864-4e9a-eaaa-8555a653d260"
      },
      "source": [
        "from google.colab import drive\n",
        "drive.mount('/content/drive')"
      ],
      "execution_count": 46,
      "outputs": [
        {
          "output_type": "stream",
          "text": [
            "Drive already mounted at /content/drive; to attempt to forcibly remount, call drive.mount(\"/content/drive\", force_remount=True).\n"
          ],
          "name": "stdout"
        }
      ]
    },
    {
      "cell_type": "code",
      "metadata": {
        "id": "I_nJisje3yTm",
        "colab_type": "code",
        "colab": {
          "base_uri": "https://localhost:8080/",
          "height": 35
        },
        "outputId": "08b4a047-af7c-46e9-fdaf-fe541988a59a"
      },
      "source": [
        "cd 'drive/My Drive/Colab Notebooks/Mnist-Model-Deploy'"
      ],
      "execution_count": 49,
      "outputs": [
        {
          "output_type": "stream",
          "text": [
            "/content/drive/My Drive/Colab Notebooks/Mnist-Model-Deploy\n"
          ],
          "name": "stdout"
        }
      ]
    },
    {
      "cell_type": "code",
      "metadata": {
        "id": "6pWKTxjooR8U",
        "colab_type": "code",
        "colab": {
          "base_uri": "https://localhost:8080/",
          "height": 255
        },
        "outputId": "7ec31a51-de1c-41f8-cf1a-9fc483c2549f"
      },
      "source": [
        "!pip install flask-ngrok"
      ],
      "execution_count": 36,
      "outputs": [
        {
          "output_type": "stream",
          "text": [
            "Requirement already satisfied: flask-ngrok in /usr/local/lib/python3.6/dist-packages (0.0.25)\n",
            "Requirement already satisfied: Flask>=0.8 in /usr/local/lib/python3.6/dist-packages (from flask-ngrok) (1.1.2)\n",
            "Requirement already satisfied: requests in /usr/local/lib/python3.6/dist-packages (from flask-ngrok) (2.23.0)\n",
            "Requirement already satisfied: itsdangerous>=0.24 in /usr/local/lib/python3.6/dist-packages (from Flask>=0.8->flask-ngrok) (1.1.0)\n",
            "Requirement already satisfied: Werkzeug>=0.15 in /usr/local/lib/python3.6/dist-packages (from Flask>=0.8->flask-ngrok) (1.0.1)\n",
            "Requirement already satisfied: click>=5.1 in /usr/local/lib/python3.6/dist-packages (from Flask>=0.8->flask-ngrok) (7.1.2)\n",
            "Requirement already satisfied: Jinja2>=2.10.1 in /usr/local/lib/python3.6/dist-packages (from Flask>=0.8->flask-ngrok) (2.11.2)\n",
            "Requirement already satisfied: chardet<4,>=3.0.2 in /usr/local/lib/python3.6/dist-packages (from requests->flask-ngrok) (3.0.4)\n",
            "Requirement already satisfied: urllib3!=1.25.0,!=1.25.1,<1.26,>=1.21.1 in /usr/local/lib/python3.6/dist-packages (from requests->flask-ngrok) (1.24.3)\n",
            "Requirement already satisfied: idna<3,>=2.5 in /usr/local/lib/python3.6/dist-packages (from requests->flask-ngrok) (2.9)\n",
            "Requirement already satisfied: certifi>=2017.4.17 in /usr/local/lib/python3.6/dist-packages (from requests->flask-ngrok) (2020.4.5.1)\n",
            "Requirement already satisfied: MarkupSafe>=0.23 in /usr/local/lib/python3.6/dist-packages (from Jinja2>=2.10.1->Flask>=0.8->flask-ngrok) (1.1.1)\n"
          ],
          "name": "stdout"
        }
      ]
    },
    {
      "cell_type": "code",
      "metadata": {
        "id": "hcG42Kj1lrNE",
        "colab_type": "code",
        "colab": {}
      },
      "source": [
        "from flask import Flask, flash, redirect, render_template, request, url_for, send_from_directory,abort\n",
        "from flask_ngrok import run_with_ngrok\n",
        "\n",
        "app = Flask(__name__)\n",
        "run_with_ngrok(app) \n",
        "app.secret_key = 'vatsalparsaniya'\n",
        "app.config[\"UPLOADS\"] = \"/content/drive/My Drive/Colab Notebooks/Mnist-Model-Deploy/uploads\"\n",
        "app.config[\"GENERATED_IMAGE\"] = \"/content/drive/My Drive/Colab Notebooks/Mnist-Model-Deploy/generated_image\"\n",
        "app.config[\"TEMPLATES\"] = \"/content/drive/My Drive/Colab Notebooks/Mnist-Model-Deploy/templates\""
      ],
      "execution_count": 0,
      "outputs": []
    },
    {
      "cell_type": "code",
      "metadata": {
        "id": "L73KgEYC0QXr",
        "colab_type": "code",
        "colab": {}
      },
      "source": [
        "%mkdir templates -p"
      ],
      "execution_count": 0,
      "outputs": []
    },
    {
      "cell_type": "code",
      "metadata": {
        "id": "ug0tnIUd0OJ-",
        "colab_type": "code",
        "colab": {
          "base_uri": "https://localhost:8080/",
          "height": 35
        },
        "outputId": "b7d45560-8a6f-431a-b01d-81c23069752c"
      },
      "source": [
        "%%writefile templates/tempindex.html\n",
        "\n",
        "<!DOCTYPE html>\n",
        "<html>\n",
        "<head>\n",
        "<meta name=\"viewport\" content=\"width=device-width, initial-scale=1\">\n",
        "<link rel=\"stylesheet\" href=\"https://cdnjs.cloudflare.com/ajax/libs/font-awesome/4.7.0/css/font-awesome.min.css\">\n",
        "<link rel=\"stylesheet\" type=\"text/css\" href=\"/static/css/header_file.css\">\n",
        "<link rel=\"stylesheet\" type=\"text/css\" href=\"/static/css/footer_file.css\">\n",
        "<link rel=\"stylesheet\" type=\"text/css\" href=\"/static/css/main.css\">\n",
        "\n",
        "</head>\n",
        "    <!-- <body> -->\n",
        "    <!-- <body style=\" background-size: 100% 100%; background-repeat: no-repeat; background-image: url('/static/img/background.jpg');\"> -->\n",
        "    <body style=\"background-color:rgb(127, 195, 255);\">\n",
        "    {% include \"header.html\" %}\n",
        "    <div id=\"loader\">\n",
        "        \n",
        "        <p class=\"glow\">Deployed Model</p>\n",
        "        <div>\n",
        "            <form action=\"/Face_Detection/\"><button class=\"registerbtn button1\"><span>Face Detection</span></button></form>\n",
        "            <form action=\"/mnist/\"><button class=\"registerbtn button3\"><span>MNIST</span></button></form>\n",
        "        </div>\n",
        "    </div>\n",
        "    \n",
        "    </body>\n",
        "    \n",
        "</html>\n"
      ],
      "execution_count": 58,
      "outputs": [
        {
          "output_type": "stream",
          "text": [
            "Writing templates/tempindex.html\n"
          ],
          "name": "stdout"
        }
      ]
    },
    {
      "cell_type": "code",
      "metadata": {
        "id": "fHxnLLcv0wE0",
        "colab_type": "code",
        "colab": {
          "base_uri": "https://localhost:8080/",
          "height": 35
        },
        "outputId": "a9aed1a6-b39a-4e4e-ecc6-3c98830d6298"
      },
      "source": [
        "%%writefile templates/header.html\n",
        "\n",
        "<div class=\"topnav\" id=\"myTopnav\">\n",
        "  <a href=\"/\" class=\"active\">temp Home</a>\n",
        "  <a href=\"/Face_Detection/\">Face Detection</a>\n",
        "  <!-- <a href=\"/variational_autoencoder/\">Variational Autoencoder</a> -->\n",
        "  <a href=\"/mnist/\">MNIST</a>\n",
        "  <!-- <a href=\"/plant_patholog/\">Plant Pathology</a> -->\n",
        "  <a href=\"javascript:void(0);\" class=\"icon\" onclick=\"myFunction()\">\n",
        "    <i class=\"fa fa-bars\"></i>\n",
        "  </a>\n",
        "</div>\n",
        "\n",
        "\n",
        "\n",
        "{% with messages = get_flashed_messages(with_categories=true) %}\n",
        "{% if messages %}\n",
        "  {% for category,message in messages %}\n",
        "\n",
        "    <div class=\"alert\">\n",
        "        <span class=\"closebtn\" onclick=\"this.parentElement.style.display='none';\">&times;</span> \n",
        "        <strong>{{category}} :</strong> {{ message }}\n",
        "    </div>\n",
        "  {% endfor %}\n",
        "{% endif %}\n",
        "{% endwith %}"
      ],
      "execution_count": 57,
      "outputs": [
        {
          "output_type": "stream",
          "text": [
            "Overwriting templates/header.html\n"
          ],
          "name": "stdout"
        }
      ]
    },
    {
      "cell_type": "code",
      "metadata": {
        "id": "o7qGpM_o03CC",
        "colab_type": "code",
        "colab": {
          "base_uri": "https://localhost:8080/",
          "height": 35
        },
        "outputId": "01a5cf86-f5f4-444e-bb04-78287aa52a19"
      },
      "source": [
        "%%writefile templates/footer.html\n",
        "\n",
        "<div class=\"footnov\" id=\"myFootnav\" style=\"position: {% block footer%}{% endblock %}; bottom: 0; width: 100%;\">\n",
        "    <a href=\"\" >Follow me : </a>\n",
        "\n",
        "    <a href=\"https://www.facebook.com/vatsal.parasaniya\" style=\"background: #3B5998; color: white;\" class=\"fa fa-facebook\"></a>\n",
        "    <a href=\"https://github.com/Vatsalparsaniya\" style=\"background: black; color: white;\" class=\"fa fa-github\"></a>\n",
        "    <a href=\"https://twitter.com/VatsalParsaniya\" style=\"background: #55ACEE; color: white;\" class=\"fa fa-twitter\"></a>\n",
        "    <a href=\"https://www.linkedin.com/in/vatsal-parsaniya/\" style=\"background: #007bb5; color: white;\" class=\"fa fa-linkedin\"></a>\n",
        "  </div>\n",
        "  \n",
        "  "
      ],
      "execution_count": 41,
      "outputs": [
        {
          "output_type": "stream",
          "text": [
            "Overwriting templates/footer.html\n"
          ],
          "name": "stdout"
        }
      ]
    },
    {
      "cell_type": "code",
      "metadata": {
        "id": "JW3bz4-D0_g8",
        "colab_type": "code",
        "colab": {}
      },
      "source": [
        "@app.route('/')\n",
        "def home():\n",
        "    flash(\"Hello Welcome to Vatsal's ML-DL Model Deploy site\")\n",
        "    return render_template('index.html')"
      ],
      "execution_count": 0,
      "outputs": []
    },
    {
      "cell_type": "code",
      "metadata": {
        "id": "vmagav6Hogzh",
        "colab_type": "code",
        "colab": {
          "base_uri": "https://localhost:8080/",
          "height": 380
        },
        "outputId": "f5996686-fe3b-4ff6-c0df-9881e8c34812"
      },
      "source": [
        "app.run()"
      ],
      "execution_count": 61,
      "outputs": [
        {
          "output_type": "stream",
          "text": [
            " * Serving Flask app \"__main__\" (lazy loading)\n",
            " * Environment: production\n",
            "\u001b[31m   WARNING: This is a development server. Do not use it in a production deployment.\u001b[0m\n",
            "\u001b[2m   Use a production WSGI server instead.\u001b[0m\n",
            " * Debug mode: off\n"
          ],
          "name": "stdout"
        },
        {
          "output_type": "stream",
          "text": [
            " * Running on http://127.0.0.1:5000/ (Press CTRL+C to quit)\n"
          ],
          "name": "stderr"
        },
        {
          "output_type": "stream",
          "text": [
            " * Running on http://3c3e8fe9.ngrok.io\n",
            " * Traffic stats available on http://127.0.0.1:4040\n"
          ],
          "name": "stdout"
        },
        {
          "output_type": "stream",
          "text": [
            "127.0.0.1 - - [25/May/2020 12:58:02] \"\u001b[37mGET / HTTP/1.1\u001b[0m\" 200 -\n",
            "127.0.0.1 - - [25/May/2020 12:58:03] \"\u001b[37mGET /static/css/main.css HTTP/1.1\u001b[0m\" 200 -\n",
            "127.0.0.1 - - [25/May/2020 12:58:03] \"\u001b[37mGET /static/css/footer_file.css HTTP/1.1\u001b[0m\" 200 -\n",
            "127.0.0.1 - - [25/May/2020 12:58:03] \"\u001b[37mGET /static/css/header_file.css HTTP/1.1\u001b[0m\" 200 -\n",
            "127.0.0.1 - - [25/May/2020 12:58:04] \"\u001b[33mGET /favicon.ico HTTP/1.1\u001b[0m\" 404 -\n",
            "127.0.0.1 - - [25/May/2020 13:05:26] \"\u001b[37mGET / HTTP/1.1\u001b[0m\" 200 -\n",
            "127.0.0.1 - - [25/May/2020 13:05:27] \"\u001b[37mGET /static/css/footer_file.css HTTP/1.1\u001b[0m\" 200 -\n",
            "127.0.0.1 - - [25/May/2020 13:05:27] \"\u001b[37mGET /static/css/main.css HTTP/1.1\u001b[0m\" 200 -\n",
            "127.0.0.1 - - [25/May/2020 13:05:27] \"\u001b[37mGET /static/css/header_file.css HTTP/1.1\u001b[0m\" 200 -\n",
            "127.0.0.1 - - [25/May/2020 13:05:28] \"\u001b[33mGET /favicon.ico HTTP/1.1\u001b[0m\" 404 -\n",
            "127.0.0.1 - - [25/May/2020 13:05:33] \"\u001b[33mGET /mnist/ HTTP/1.1\u001b[0m\" 404 -\n",
            "127.0.0.1 - - [25/May/2020 13:05:36] \"\u001b[33mGET /Face_Detection/ HTTP/1.1\u001b[0m\" 404 -\n"
          ],
          "name": "stderr"
        }
      ]
    },
    {
      "cell_type": "code",
      "metadata": {
        "id": "tsx55VTQ02HY",
        "colab_type": "code",
        "colab": {}
      },
      "source": [
        ""
      ],
      "execution_count": 0,
      "outputs": []
    },
    {
      "cell_type": "code",
      "metadata": {
        "id": "5ERWuq_GrdzR",
        "colab_type": "code",
        "colab": {}
      },
      "source": [
        ""
      ],
      "execution_count": 0,
      "outputs": []
    }
  ]
}